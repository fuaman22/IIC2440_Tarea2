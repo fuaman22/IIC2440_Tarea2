{
  "nbformat": 4,
  "nbformat_minor": 0,
  "metadata": {
    "colab": {
      "provenance": []
    },
    "kernelspec": {
      "name": "python3",
      "display_name": "Python 3"
    },
    "language_info": {
      "name": "python"
    }
  },
  "cells": [
    {
      "cell_type": "code",
      "source": [
        "!pip install neo4j==5.3.0 pyspark==3.3.1\n"
      ],
      "metadata": {
        "colab": {
          "base_uri": "https://localhost:8080/"
        },
        "id": "EL6zuYKElhvb",
        "outputId": "ceb07fa6-d98c-47bd-cd24-b3ed11b8fde5"
      },
      "execution_count": 1,
      "outputs": [
        {
          "output_type": "stream",
          "name": "stdout",
          "text": [
            "Collecting neo4j==5.3.0\n",
            "  Downloading neo4j-5.3.0.tar.gz (157 kB)\n",
            "\u001b[2K     \u001b[90m━━━━━━━━━━━━━━━━━━━━━━━━━━━━━━━━━━━━━━━━\u001b[0m \u001b[32m157.8/157.8 kB\u001b[0m \u001b[31m1.5 MB/s\u001b[0m eta \u001b[36m0:00:00\u001b[0m\n",
            "\u001b[?25h  Installing build dependencies ... \u001b[?25l\u001b[?25hdone\n",
            "  Getting requirements to build wheel ... \u001b[?25l\u001b[?25hdone\n",
            "  Installing backend dependencies ... \u001b[?25l\u001b[?25hdone\n",
            "  Preparing metadata (pyproject.toml) ... \u001b[?25l\u001b[?25hdone\n",
            "Collecting pyspark==3.3.1\n",
            "  Downloading pyspark-3.3.1.tar.gz (281.4 MB)\n",
            "\u001b[2K     \u001b[90m━━━━━━━━━━━━━━━━━━━━━━━━━━━━━━━━━━━━━━━━\u001b[0m \u001b[32m281.4/281.4 MB\u001b[0m \u001b[31m4.5 MB/s\u001b[0m eta \u001b[36m0:00:00\u001b[0m\n",
            "\u001b[?25h  Preparing metadata (setup.py) ... \u001b[?25l\u001b[?25hdone\n",
            "Requirement already satisfied: pytz in /usr/local/lib/python3.10/dist-packages (from neo4j==5.3.0) (2023.4)\n",
            "Collecting py4j==0.10.9.5 (from pyspark==3.3.1)\n",
            "  Downloading py4j-0.10.9.5-py2.py3-none-any.whl (199 kB)\n",
            "\u001b[2K     \u001b[90m━━━━━━━━━━━━━━━━━━━━━━━━━━━━━━━━━━━━━━━━\u001b[0m \u001b[32m199.7/199.7 kB\u001b[0m \u001b[31m11.4 MB/s\u001b[0m eta \u001b[36m0:00:00\u001b[0m\n",
            "\u001b[?25hBuilding wheels for collected packages: neo4j, pyspark\n",
            "  Building wheel for neo4j (pyproject.toml) ... \u001b[?25l\u001b[?25hdone\n",
            "  Created wheel for neo4j: filename=neo4j-5.3.0-py3-none-any.whl size=221839 sha256=7e10fb37b99c01b303e2f3defc08309118106aaca7007c00d16240d64a2508e0\n",
            "  Stored in directory: /root/.cache/pip/wheels/8a/c2/63/120f949d48b7a9577c5b5bcaae8d32d698794be94206d41c3d\n",
            "  Building wheel for pyspark (setup.py) ... \u001b[?25l\u001b[?25hdone\n",
            "  Created wheel for pyspark: filename=pyspark-3.3.1-py2.py3-none-any.whl size=281845493 sha256=cc6a0f9b47ba991206125a1b85ca22e0e608e00ac6848a042d187f745debe06e\n",
            "  Stored in directory: /root/.cache/pip/wheels/0f/f0/3d/517368b8ce80486e84f89f214e0a022554e4ee64969f46279b\n",
            "Successfully built neo4j pyspark\n",
            "Installing collected packages: py4j, pyspark, neo4j\n",
            "  Attempting uninstall: py4j\n",
            "    Found existing installation: py4j 0.10.9.7\n",
            "    Uninstalling py4j-0.10.9.7:\n",
            "      Successfully uninstalled py4j-0.10.9.7\n",
            "Successfully installed neo4j-5.3.0 py4j-0.10.9.5 pyspark-3.3.1\n"
          ]
        }
      ]
    },
    {
      "cell_type": "code",
      "source": [
        "from neo4j import GraphDatabase, basic_auth\n",
        "import pandas as pd\n",
        "from pyspark import SparkContext\n",
        "from collections import deque"
      ],
      "metadata": {
        "id": "pKtVCx7fUnep"
      },
      "execution_count": 2,
      "outputs": []
    },
    {
      "cell_type": "code",
      "source": [
        "# Nos conectamos a nuestra BDD de pruebas\n",
        "# Para conectar una base de datos de neo4j basta con llenar la variables de abajo\n",
        "# con los datos necesarios.\n",
        "#---------------------------RELLENAR---------------------------------\n",
        "URI = \"neo4j+s://086a21e0.databases.neo4j.io\"\n",
        "AUTH = (\"neo4j\", \"thlPXPR9u7opMHv3r9PMOVRRWjDPX1BzWQg1R0u_wqQ\") # (user, password)\n",
        "#---------------------------RELLENAR---------------------------------\n",
        "\n",
        "\n",
        "driver = GraphDatabase.driver(URI,\n",
        "  auth=AUTH)\n",
        "with driver.session() as session:\n",
        "    try:\n",
        "        session.run(\"RETURN 1\")\n",
        "        print(\"Connection to Neo4j established successfully!\")\n",
        "    except Exception as e:\n",
        "        print(f\"Failed to connect to Neo4j: {e}\")\n"
      ],
      "metadata": {
        "colab": {
          "base_uri": "https://localhost:8080/"
        },
        "id": "_K5PwdR1HD1M",
        "outputId": "dcc23262-fece-4578-d996-5a7984103be5"
      },
      "execution_count": 4,
      "outputs": [
        {
          "output_type": "stream",
          "name": "stdout",
          "text": [
            "Connection to Neo4j established successfully!\n"
          ]
        }
      ]
    },
    {
      "cell_type": "markdown",
      "source": [
        "# Códigos de prueba usados para la tarea"
      ],
      "metadata": {
        "id": "-yJL0jpAJ6DO"
      }
    },
    {
      "cell_type": "code",
      "source": [
        "#Query para cargar los datos de prueba a una base de datos de neo4j de prueba\n",
        "query = '''\n",
        "MERGE (n1:Node {id: 1})\n",
        "MERGE (n2:Node {id: 2})\n",
        "MERGE (n3:Node {id: 3})\n",
        "MERGE (n4:Node {id: 4})\n",
        "MERGE (n5:Node {id: 5})\n",
        "MERGE (n6:Node {id: 6})\n",
        "\n",
        "\n",
        "MERGE (n1)-[:RELATIONSHIP_TYPE_11]->(n2)\n",
        "MERGE (n1)-[:RELATIONSHIP_TYPE_11]->(n3)\n",
        "MERGE (n2)-[:RELATIONSHIP_TYPE_11]->(n3)\n",
        "MERGE (n3)-[:RELATIONSHIP_TYPE_11]->(n2)\n",
        "MERGE (n3)-[:RELATIONSHIP_TYPE_11]->(n4)\n",
        "MERGE (n4)-[:RELATIONSHIP_TYPE_11]->(n1)\n",
        "MERGE (n4)-[:RELATIONSHIP_TYPE_11]->(n2)\n",
        "MERGE (n4)-[:RELATIONSHIP_TYPE_11]->(n3)\n",
        "MERGE (n4)-[:RELATIONSHIP_TYPE_12]->(n5)\n",
        "MERGE (n5)-[:RELATIONSHIP_TYPE_12]->(n1)\n",
        "MERGE (n5)-[:RELATIONSHIP_TYPE_12]->(n2)\n",
        "MERGE (n5)-[:RELATIONSHIP_TYPE_12]->(n6)\n",
        "'''\n",
        "with driver.session() as session:\n",
        "    result = session.run(query)\n",
        "    for record in result:\n",
        "        print(record)"
      ],
      "metadata": {
        "id": "4F3yUbobiggJ"
      },
      "execution_count": 10,
      "outputs": []
    },
    {
      "cell_type": "code",
      "source": [
        "# Funció para obtener una lista de aritas del grafo en neo4j, retorna una lista de tuplas de la forma (nodo1, relación, nodo2)\n",
        "def fetch_edges(tx):\n",
        "    query = \"MATCH (n1)-[r]->(n2) RETURN n1.id AS n1, type(r) AS r, n2.id AS n2\"\n",
        "    result = tx.run(query)\n",
        "    edges = [(record[\"n1\"], record[\"r\"], record[\"n2\"]) for record in result]\n",
        "    return edges\n",
        "\n",
        "# Función para ejecutar la obtención de las aristas, llama a la función fetch_edges(tx)\n",
        "def get_edges(driver):\n",
        "    with driver.session() as session:\n",
        "        edges = session.execute_read(fetch_edges)\n",
        "    return edges"
      ],
      "metadata": {
        "id": "NEroXXmhHNGA"
      },
      "execution_count": 11,
      "outputs": []
    },
    {
      "cell_type": "code",
      "source": [
        "# Código de prueba\n",
        "# Buscmamos la lista de aristas en neo4j\n",
        "try:\n",
        "    edges = get_edges(driver)\n",
        "    print(f\"Fetched {len(edges)} edges from Neo4j.\")\n",
        "except Exception as e:\n",
        "    print(f\"An error occurred while fetching edges: {e}\")"
      ],
      "metadata": {
        "colab": {
          "base_uri": "https://localhost:8080/"
        },
        "id": "fl4R6DtqH6Xc",
        "outputId": "d55d2682-227d-4097-88fd-aaf1e03f60db"
      },
      "execution_count": 102,
      "outputs": [
        {
          "output_type": "stream",
          "name": "stdout",
          "text": [
            "Fetched 12 edges from Neo4j.\n"
          ]
        }
      ]
    },
    {
      "cell_type": "code",
      "source": [
        "B# Función para pasar la lista de aristas a una rdd en pyspark\n",
        "def generte_rdd(edges):\n",
        "    rdd = sc.parallelize(edges)\n",
        "    return rdd"
      ],
      "metadata": {
        "id": "V6tKd8BzH5-k"
      },
      "execution_count": 15,
      "outputs": []
    },
    {
      "cell_type": "code",
      "source": [
        "# Códig de prueba\n",
        "edge_rdd = generte_rdd(edges)"
      ],
      "metadata": {
        "id": "zXYn5a-PH52z"
      },
      "execution_count": 16,
      "outputs": []
    },
    {
      "cell_type": "code",
      "source": [
        "# Hasher retorna los haches de los dos nodos pertenecientes a la arista \"edge\"\n",
        "# La función de hash que usamos es módulo de b, siendo b el numero de reducers.\n",
        "def hasher(edge,b):\n",
        "  n1_hash = hash(edge[0]) % b\n",
        "  n2_hash = hash(edge[2]) % b\n",
        "  return n1_hash, n2_hash\n",
        "\n",
        "#función de mapeo para la fase de distribución de aristas.\n",
        "#si queremos mapear a patrones de ciclos mas grandes, ejemplo, cuadrados,\n",
        "#pentagonos, etc. solo debemos ajustar el parametro de pattern_size.\n",
        "def mapper(edge, b, pattern_size=3):\n",
        "  b1, b2 = hasher(edge, b)\n",
        "  keys = []\n",
        "  #calculamos todas las permutaciones necesarias para las llaves\n",
        "  perms = deque([b1, b2] + [None] * (pattern_size - 2))\n",
        "  for i in range(pattern_size):\n",
        "    perms.rotate(1)\n",
        "    for j in range(b):\n",
        "      key = tuple(j if x is None else x for x in perms)\n",
        "      keys.append(key)\n",
        "\n",
        "  for key in keys:\n",
        "    yield (key, edge)\n"
      ],
      "metadata": {
        "id": "6fTJ-yPbIO2j"
      },
      "execution_count": 21,
      "outputs": []
    },
    {
      "cell_type": "code",
      "source": [
        "# Codigo de prueba\n",
        "for edge in edges:\n",
        "  for key in mapper(edge, 3, pattern_size=4):\n",
        "    print(key)"
      ],
      "metadata": {
        "colab": {
          "base_uri": "https://localhost:8080/"
        },
        "id": "HHHDDvbeD8wQ",
        "outputId": "7d84114f-083f-43c3-fed4-cd751831c74e",
        "collapsed": true
      },
      "execution_count": 22,
      "outputs": [
        {
          "output_type": "stream",
          "name": "stdout",
          "text": [
            "((0, 1, 2, 0), (1, 'RELATIONSHIP_TYPE_11', 2))\n",
            "((1, 1, 2, 1), (1, 'RELATIONSHIP_TYPE_11', 2))\n",
            "((2, 1, 2, 2), (1, 'RELATIONSHIP_TYPE_11', 2))\n",
            "((0, 0, 1, 2), (1, 'RELATIONSHIP_TYPE_11', 2))\n",
            "((1, 1, 1, 2), (1, 'RELATIONSHIP_TYPE_11', 2))\n",
            "((2, 2, 1, 2), (1, 'RELATIONSHIP_TYPE_11', 2))\n",
            "((2, 0, 0, 1), (1, 'RELATIONSHIP_TYPE_11', 2))\n",
            "((2, 1, 1, 1), (1, 'RELATIONSHIP_TYPE_11', 2))\n",
            "((2, 2, 2, 1), (1, 'RELATIONSHIP_TYPE_11', 2))\n",
            "((1, 2, 0, 0), (1, 'RELATIONSHIP_TYPE_11', 2))\n",
            "((1, 2, 1, 1), (1, 'RELATIONSHIP_TYPE_11', 2))\n",
            "((1, 2, 2, 2), (1, 'RELATIONSHIP_TYPE_11', 2))\n",
            "((0, 1, 0, 0), (1, 'RELATIONSHIP_TYPE_11', 3))\n",
            "((1, 1, 0, 1), (1, 'RELATIONSHIP_TYPE_11', 3))\n",
            "((2, 1, 0, 2), (1, 'RELATIONSHIP_TYPE_11', 3))\n",
            "((0, 0, 1, 0), (1, 'RELATIONSHIP_TYPE_11', 3))\n",
            "((1, 1, 1, 0), (1, 'RELATIONSHIP_TYPE_11', 3))\n",
            "((2, 2, 1, 0), (1, 'RELATIONSHIP_TYPE_11', 3))\n",
            "((0, 0, 0, 1), (1, 'RELATIONSHIP_TYPE_11', 3))\n",
            "((0, 1, 1, 1), (1, 'RELATIONSHIP_TYPE_11', 3))\n",
            "((0, 2, 2, 1), (1, 'RELATIONSHIP_TYPE_11', 3))\n",
            "((1, 0, 0, 0), (1, 'RELATIONSHIP_TYPE_11', 3))\n",
            "((1, 0, 1, 1), (1, 'RELATIONSHIP_TYPE_11', 3))\n",
            "((1, 0, 2, 2), (1, 'RELATIONSHIP_TYPE_11', 3))\n",
            "((0, 2, 0, 0), (2, 'RELATIONSHIP_TYPE_11', 3))\n",
            "((1, 2, 0, 1), (2, 'RELATIONSHIP_TYPE_11', 3))\n",
            "((2, 2, 0, 2), (2, 'RELATIONSHIP_TYPE_11', 3))\n",
            "((0, 0, 2, 0), (2, 'RELATIONSHIP_TYPE_11', 3))\n",
            "((1, 1, 2, 0), (2, 'RELATIONSHIP_TYPE_11', 3))\n",
            "((2, 2, 2, 0), (2, 'RELATIONSHIP_TYPE_11', 3))\n",
            "((0, 0, 0, 2), (2, 'RELATIONSHIP_TYPE_11', 3))\n",
            "((0, 1, 1, 2), (2, 'RELATIONSHIP_TYPE_11', 3))\n",
            "((0, 2, 2, 2), (2, 'RELATIONSHIP_TYPE_11', 3))\n",
            "((2, 0, 0, 0), (2, 'RELATIONSHIP_TYPE_11', 3))\n",
            "((2, 0, 1, 1), (2, 'RELATIONSHIP_TYPE_11', 3))\n",
            "((2, 0, 2, 2), (2, 'RELATIONSHIP_TYPE_11', 3))\n",
            "((0, 0, 2, 0), (3, 'RELATIONSHIP_TYPE_11', 2))\n",
            "((1, 0, 2, 1), (3, 'RELATIONSHIP_TYPE_11', 2))\n",
            "((2, 0, 2, 2), (3, 'RELATIONSHIP_TYPE_11', 2))\n",
            "((0, 0, 0, 2), (3, 'RELATIONSHIP_TYPE_11', 2))\n",
            "((1, 1, 0, 2), (3, 'RELATIONSHIP_TYPE_11', 2))\n",
            "((2, 2, 0, 2), (3, 'RELATIONSHIP_TYPE_11', 2))\n",
            "((2, 0, 0, 0), (3, 'RELATIONSHIP_TYPE_11', 2))\n",
            "((2, 1, 1, 0), (3, 'RELATIONSHIP_TYPE_11', 2))\n",
            "((2, 2, 2, 0), (3, 'RELATIONSHIP_TYPE_11', 2))\n",
            "((0, 2, 0, 0), (3, 'RELATIONSHIP_TYPE_11', 2))\n",
            "((0, 2, 1, 1), (3, 'RELATIONSHIP_TYPE_11', 2))\n",
            "((0, 2, 2, 2), (3, 'RELATIONSHIP_TYPE_11', 2))\n",
            "((0, 0, 1, 0), (3, 'RELATIONSHIP_TYPE_11', 4))\n",
            "((1, 0, 1, 1), (3, 'RELATIONSHIP_TYPE_11', 4))\n",
            "((2, 0, 1, 2), (3, 'RELATIONSHIP_TYPE_11', 4))\n",
            "((0, 0, 0, 1), (3, 'RELATIONSHIP_TYPE_11', 4))\n",
            "((1, 1, 0, 1), (3, 'RELATIONSHIP_TYPE_11', 4))\n",
            "((2, 2, 0, 1), (3, 'RELATIONSHIP_TYPE_11', 4))\n",
            "((1, 0, 0, 0), (3, 'RELATIONSHIP_TYPE_11', 4))\n",
            "((1, 1, 1, 0), (3, 'RELATIONSHIP_TYPE_11', 4))\n",
            "((1, 2, 2, 0), (3, 'RELATIONSHIP_TYPE_11', 4))\n",
            "((0, 1, 0, 0), (3, 'RELATIONSHIP_TYPE_11', 4))\n",
            "((0, 1, 1, 1), (3, 'RELATIONSHIP_TYPE_11', 4))\n",
            "((0, 1, 2, 2), (3, 'RELATIONSHIP_TYPE_11', 4))\n",
            "((0, 1, 1, 0), (4, 'RELATIONSHIP_TYPE_11', 1))\n",
            "((1, 1, 1, 1), (4, 'RELATIONSHIP_TYPE_11', 1))\n",
            "((2, 1, 1, 2), (4, 'RELATIONSHIP_TYPE_11', 1))\n",
            "((0, 0, 1, 1), (4, 'RELATIONSHIP_TYPE_11', 1))\n",
            "((1, 1, 1, 1), (4, 'RELATIONSHIP_TYPE_11', 1))\n",
            "((2, 2, 1, 1), (4, 'RELATIONSHIP_TYPE_11', 1))\n",
            "((1, 0, 0, 1), (4, 'RELATIONSHIP_TYPE_11', 1))\n",
            "((1, 1, 1, 1), (4, 'RELATIONSHIP_TYPE_11', 1))\n",
            "((1, 2, 2, 1), (4, 'RELATIONSHIP_TYPE_11', 1))\n",
            "((1, 1, 0, 0), (4, 'RELATIONSHIP_TYPE_11', 1))\n",
            "((1, 1, 1, 1), (4, 'RELATIONSHIP_TYPE_11', 1))\n",
            "((1, 1, 2, 2), (4, 'RELATIONSHIP_TYPE_11', 1))\n",
            "((0, 1, 2, 0), (4, 'RELATIONSHIP_TYPE_11', 2))\n",
            "((1, 1, 2, 1), (4, 'RELATIONSHIP_TYPE_11', 2))\n",
            "((2, 1, 2, 2), (4, 'RELATIONSHIP_TYPE_11', 2))\n",
            "((0, 0, 1, 2), (4, 'RELATIONSHIP_TYPE_11', 2))\n",
            "((1, 1, 1, 2), (4, 'RELATIONSHIP_TYPE_11', 2))\n",
            "((2, 2, 1, 2), (4, 'RELATIONSHIP_TYPE_11', 2))\n",
            "((2, 0, 0, 1), (4, 'RELATIONSHIP_TYPE_11', 2))\n",
            "((2, 1, 1, 1), (4, 'RELATIONSHIP_TYPE_11', 2))\n",
            "((2, 2, 2, 1), (4, 'RELATIONSHIP_TYPE_11', 2))\n",
            "((1, 2, 0, 0), (4, 'RELATIONSHIP_TYPE_11', 2))\n",
            "((1, 2, 1, 1), (4, 'RELATIONSHIP_TYPE_11', 2))\n",
            "((1, 2, 2, 2), (4, 'RELATIONSHIP_TYPE_11', 2))\n",
            "((0, 1, 0, 0), (4, 'RELATIONSHIP_TYPE_11', 3))\n",
            "((1, 1, 0, 1), (4, 'RELATIONSHIP_TYPE_11', 3))\n",
            "((2, 1, 0, 2), (4, 'RELATIONSHIP_TYPE_11', 3))\n",
            "((0, 0, 1, 0), (4, 'RELATIONSHIP_TYPE_11', 3))\n",
            "((1, 1, 1, 0), (4, 'RELATIONSHIP_TYPE_11', 3))\n",
            "((2, 2, 1, 0), (4, 'RELATIONSHIP_TYPE_11', 3))\n",
            "((0, 0, 0, 1), (4, 'RELATIONSHIP_TYPE_11', 3))\n",
            "((0, 1, 1, 1), (4, 'RELATIONSHIP_TYPE_11', 3))\n",
            "((0, 2, 2, 1), (4, 'RELATIONSHIP_TYPE_11', 3))\n",
            "((1, 0, 0, 0), (4, 'RELATIONSHIP_TYPE_11', 3))\n",
            "((1, 0, 1, 1), (4, 'RELATIONSHIP_TYPE_11', 3))\n",
            "((1, 0, 2, 2), (4, 'RELATIONSHIP_TYPE_11', 3))\n",
            "((0, 1, 2, 0), (4, 'RELATIONSHIP_TYPE_12', 5))\n",
            "((1, 1, 2, 1), (4, 'RELATIONSHIP_TYPE_12', 5))\n",
            "((2, 1, 2, 2), (4, 'RELATIONSHIP_TYPE_12', 5))\n",
            "((0, 0, 1, 2), (4, 'RELATIONSHIP_TYPE_12', 5))\n",
            "((1, 1, 1, 2), (4, 'RELATIONSHIP_TYPE_12', 5))\n",
            "((2, 2, 1, 2), (4, 'RELATIONSHIP_TYPE_12', 5))\n",
            "((2, 0, 0, 1), (4, 'RELATIONSHIP_TYPE_12', 5))\n",
            "((2, 1, 1, 1), (4, 'RELATIONSHIP_TYPE_12', 5))\n",
            "((2, 2, 2, 1), (4, 'RELATIONSHIP_TYPE_12', 5))\n",
            "((1, 2, 0, 0), (4, 'RELATIONSHIP_TYPE_12', 5))\n",
            "((1, 2, 1, 1), (4, 'RELATIONSHIP_TYPE_12', 5))\n",
            "((1, 2, 2, 2), (4, 'RELATIONSHIP_TYPE_12', 5))\n",
            "((0, 2, 1, 0), (5, 'RELATIONSHIP_TYPE_12', 1))\n",
            "((1, 2, 1, 1), (5, 'RELATIONSHIP_TYPE_12', 1))\n",
            "((2, 2, 1, 2), (5, 'RELATIONSHIP_TYPE_12', 1))\n",
            "((0, 0, 2, 1), (5, 'RELATIONSHIP_TYPE_12', 1))\n",
            "((1, 1, 2, 1), (5, 'RELATIONSHIP_TYPE_12', 1))\n",
            "((2, 2, 2, 1), (5, 'RELATIONSHIP_TYPE_12', 1))\n",
            "((1, 0, 0, 2), (5, 'RELATIONSHIP_TYPE_12', 1))\n",
            "((1, 1, 1, 2), (5, 'RELATIONSHIP_TYPE_12', 1))\n",
            "((1, 2, 2, 2), (5, 'RELATIONSHIP_TYPE_12', 1))\n",
            "((2, 1, 0, 0), (5, 'RELATIONSHIP_TYPE_12', 1))\n",
            "((2, 1, 1, 1), (5, 'RELATIONSHIP_TYPE_12', 1))\n",
            "((2, 1, 2, 2), (5, 'RELATIONSHIP_TYPE_12', 1))\n",
            "((0, 2, 2, 0), (5, 'RELATIONSHIP_TYPE_12', 2))\n",
            "((1, 2, 2, 1), (5, 'RELATIONSHIP_TYPE_12', 2))\n",
            "((2, 2, 2, 2), (5, 'RELATIONSHIP_TYPE_12', 2))\n",
            "((0, 0, 2, 2), (5, 'RELATIONSHIP_TYPE_12', 2))\n",
            "((1, 1, 2, 2), (5, 'RELATIONSHIP_TYPE_12', 2))\n",
            "((2, 2, 2, 2), (5, 'RELATIONSHIP_TYPE_12', 2))\n",
            "((2, 0, 0, 2), (5, 'RELATIONSHIP_TYPE_12', 2))\n",
            "((2, 1, 1, 2), (5, 'RELATIONSHIP_TYPE_12', 2))\n",
            "((2, 2, 2, 2), (5, 'RELATIONSHIP_TYPE_12', 2))\n",
            "((2, 2, 0, 0), (5, 'RELATIONSHIP_TYPE_12', 2))\n",
            "((2, 2, 1, 1), (5, 'RELATIONSHIP_TYPE_12', 2))\n",
            "((2, 2, 2, 2), (5, 'RELATIONSHIP_TYPE_12', 2))\n",
            "((0, 2, 0, 0), (5, 'RELATIONSHIP_TYPE_12', 6))\n",
            "((1, 2, 0, 1), (5, 'RELATIONSHIP_TYPE_12', 6))\n",
            "((2, 2, 0, 2), (5, 'RELATIONSHIP_TYPE_12', 6))\n",
            "((0, 0, 2, 0), (5, 'RELATIONSHIP_TYPE_12', 6))\n",
            "((1, 1, 2, 0), (5, 'RELATIONSHIP_TYPE_12', 6))\n",
            "((2, 2, 2, 0), (5, 'RELATIONSHIP_TYPE_12', 6))\n",
            "((0, 0, 0, 2), (5, 'RELATIONSHIP_TYPE_12', 6))\n",
            "((0, 1, 1, 2), (5, 'RELATIONSHIP_TYPE_12', 6))\n",
            "((0, 2, 2, 2), (5, 'RELATIONSHIP_TYPE_12', 6))\n",
            "((2, 0, 0, 0), (5, 'RELATIONSHIP_TYPE_12', 6))\n",
            "((2, 0, 1, 1), (5, 'RELATIONSHIP_TYPE_12', 6))\n",
            "((2, 0, 2, 2), (5, 'RELATIONSHIP_TYPE_12', 6))\n"
          ]
        }
      ]
    },
    {
      "cell_type": "code",
      "source": [
        "# Función de reducción estricta, tiene como input:\n",
        "# - edges; una lista de tuplas de las aristas de la forma (nodo1, Rel, nodo2)\n",
        "# - cycle_length; el largo del ciclo que estamos buscando (triangulo=3, cadrado=4, etc)\n",
        "# - depth; profundidad de la recursión para la busqueda de caminos\n",
        "# - rel_types; una lista de las relaciones que queremos que se cumplan en el camino, en orden\n",
        "# - path; el camino que se lleva explorado en cada iteración\n",
        "def strict_relationships(edges, cycle_length, depth, rel_types, path):\n",
        "  #si llegamos a un profundidad de busqueda igual al largo del ciclo, paramos\n",
        "  if depth == cycle_length-1:\n",
        "    print(f'camino cerrado {path}')\n",
        "    return path\n",
        "  else:\n",
        "    #para cada arista en edges, expandimos la busqueda, si el nodo de salida se\n",
        "    #encuentra en el camino que llevamos, si ademas el nodo de llegada aún no\n",
        "    #está en el camino que llevamos, y si el tipo de relación que se pide es el\n",
        "    #indicado.\n",
        "    for edge in edges: # iteramos directamente sobre las aristas\n",
        "      if ((edge[0] in path) and (edge[2] not in path) and (rel_types[depth] == edge[1])) or (cycle_length==depth): # Access elements of 'edge' directly\n",
        "        new_path = path.copy()\n",
        "        new_path.append(edge[2])\n",
        "        result = strict_relationships(edges, cycle_length, depth + 1, rel_types, new_path)\n",
        "        #retornamos el resultado si y solo si el camino explorado no es vacío\n",
        "        if result is not None:\n",
        "          return result\n",
        "  return []\n",
        "\n",
        "\n",
        "# Función de reducción laxa, tiene como input:\n",
        "# - edges; una lista de tuplas de las aristas de la forma (nodo1, Rel, nodo2)\n",
        "# - cycle_length; el largo del ciclo que estamos buscando (triangulo=3, cadrado=4, etc)\n",
        "# - depth; profundidad de la recursión para la busqueda de caminos\n",
        "# - path; el camino que se lleva explorado en cada iteración\n",
        "def lax_relationships(edges, cycle_length, depth, path):\n",
        "  #si llegamos a un profundidad de busqueda igual al largo del ciclo, paramos\n",
        "  if depth == cycle_length-1:\n",
        "    print(f'camino cerrado {path}')\n",
        "    return path\n",
        "  else:\n",
        "    #para cada arista en edges, expandimos la busqueda, si el nodo de salida se\n",
        "    #encuentra en el camino que llevamos y ademas el nodo de llegada aún no\n",
        "    #está en el camino que llevamos, no nos importa que tipo de relación tienen.\n",
        "\n",
        "    for edge in edges: # Iteramos directamente sobre las arista\n",
        "      if (edge[0] in path and edge[2] not in path) or (cycle_length==depth):\n",
        "        new_path = path.copy()\n",
        "        new_path.append(edge[2])\n",
        "        result = lax_relationships(edges, cycle_length, depth + 1, new_path)\n",
        "        #retornamos el resultado si y solo si el camino explorado no es vacío\n",
        "        if result is not None:\n",
        "          return result\n",
        "  return []\n",
        "\n",
        "# Funcion de reduccion general, es la que se llama al hacer el reduce mismo en spark\n",
        "# - key; la llave de cada valor en la RDD.\n",
        "# - values; valores de los datos para cada llave en la RDD.\n",
        "# - cycle_length; el largo del ciclo que estamos buscando (triangulo=3, cadrado=4, etc).\n",
        "# - strict_rules; booleano que define si se usa la funcion strict_relationships o lax_relationships.\n",
        "# - rel_types; una lista de las relaciones que queremos que se cumplan en el camino, en orden\n",
        "def generalized_reducer(key, values, cycle_length, strict_rels=False, rel_types=None):\n",
        "  edges = list(values) # Aristas\n",
        "  cycles = list() # ciclos encontrados\n",
        "\n",
        "\n",
        "  if strict_rels: # Llamado a la funcion de reduccion estricta\n",
        "  #comenzamos revisando que se pueda usar la función estricta\n",
        "    if rel_types is None: # Revisamos que se le haya entregado una lista de relaciones\n",
        "      raise ValueError(\"rel_types must be specified in strict mode\")\n",
        "    for rel_type in rel_types:\n",
        "      if not isinstance(rel_type, str):\n",
        "        raise ValueError(\"rel_types must contain only strings\")\n",
        "    if len(rel_types) != cycle_length: # Revisamos que la cantidad de relaciones sea la correcta.\n",
        "      raise rel_types(\"rel_types must have the same length as the cycle length\")\n",
        "    path=[]\n",
        "    cycles.extend(strict_relationships(edges, cycle_length, 0, rel_types, path=[edge[0]]) for edge in values)\n",
        "  else: # Llamado a la función de reducción laxa\n",
        "    path = []\n",
        "    cycles.extend(lax_relationships(edges, cycle_length, 0, path=[edge[0]]) for edge in values)\n",
        "  return cycles"
      ],
      "metadata": {
        "id": "2jW1wMzeIwf9"
      },
      "execution_count": 100,
      "outputs": []
    },
    {
      "cell_type": "code",
      "source": [
        "#-------------------------------CÓDIGO DE PRUEBA---------------------------\n",
        "pattern_size = 3  # Lasrgo del patrón que se desea buscar\n",
        "b = 3  # Numero de reducers que se usarán\n",
        "\n",
        "# Enviamos a cada nodo de la RDD las aristas correspondientes según la función de map definifa mas arriba\n",
        "# Enviamos el tamaño del patrón para que se puedan generar llaves para todos los ordenes posibles del patrón.\n",
        "mapped_rdd = edge_rdd.flatMap(lambda edge: mapper(edge, b, pattern_size))\n",
        "\n",
        "# Aplicamos la función de reducción general\n",
        "cycle_length = 3  # Largo del patrón que queremos buscar\n",
        "strict_rels = True  # True: funcion de reduccion estricta, False: funcion de reducciómn laxa\n",
        "\n",
        "# Lista de relaciones que buscamos igualar en la reducción.\n",
        "# IMPORTANTE, el orden de las relaciones que se busca dee venir definido en esta lista.\n",
        "rel_types = [\"RELATIONSHIP_TYPE_11\", \"RELATIONSHIP_TYPE_11\", \"RELATIONSHIP_TYPE_11\"]  # Relaciones que buscamos\n",
        "\n",
        "# Aplicamos la reducción general\n",
        "reduced_rdd = mapped_rdd.groupByKey().flatMap(lambda x: generalized_reducer(x[0], x[1], cycle_length, strict_rels=strict_rels, rel_types=rel_types))\n",
        "\n",
        "# Recolectamos y mostramos los datos\n",
        "result = reduced_rdd.collect()\n",
        "result = [tuple(cycle) for cycle in result]\n",
        "\n",
        "# Creamos un set de los resultados para eliminar duplicados\n",
        "unique_cycles = set(result)\n",
        "print(unique_cycles)\n",
        "#-------------------------------CÓDIGO DE PRUEBA---------------------------"
      ],
      "metadata": {
        "colab": {
          "base_uri": "https://localhost:8080/"
        },
        "id": "W4EeUN1f0BkS",
        "outputId": "31e20b92-3e16-40a4-d822-f37c99a53173",
        "collapsed": true
      },
      "execution_count": 42,
      "outputs": [
        {
          "output_type": "stream",
          "name": "stdout",
          "text": [
            "{(4, 3, 2), (1, 3, 2), (1, 2, 3), (1, 3, 4), (3, 4, 2), (2, 3, 4), (3, 4, 1), (4, 1, 3), (4, 2, 3), (), (4, 1, 2)}\n"
          ]
        }
      ]
    },
    {
      "cell_type": "markdown",
      "source": [
        "### Hasta este punto definimos las funciones que ayudarán a la escritura efciente y clara de las funciones que efectivamente nos piden para la tarea\n",
        "\n",
        "Funciones definidas:\n",
        "- fetch_edges()\n",
        "- get_edges()\n",
        "- generate_rdd()\n",
        "- hasher()\n",
        "- mapper()\n",
        "- strict_relationships()\n",
        "- lax_relationhips()\n",
        "- generalized_reducer()"
      ],
      "metadata": {
        "id": "0WDDlUh7ExM8"
      }
    },
    {
      "cell_type": "markdown",
      "source": [
        "# Pregunta 2.1"
      ],
      "metadata": {
        "id": "YU25_uUE1ZzH"
      }
    },
    {
      "cell_type": "code",
      "source": [
        "def neo4j_to_spark():\n",
        "  try:\n",
        "    edges = get_edges(driver) # Funcion para obtener las aristas de la forma (nodo1, Rel, nodo2)\n",
        "    print(f\"Fetched {len(edges)} edges from Neo4j.\")\n",
        "  except Exception as e:\n",
        "    print(f\"An error occurred while fetching edges: {e}\")\n",
        "\n",
        "  sc = SparkContext() # Spark Context\n",
        "  edge_rdd = generte_rdd(edges) # Funcion que nos genera la RDD\n",
        "  return edge_rdd # Retornamos la RDD"
      ],
      "metadata": {
        "id": "roMhRrm01cQU"
      },
      "execution_count": null,
      "outputs": []
    },
    {
      "cell_type": "code",
      "source": [
        "edge_rdd = neo4j_to_spark() # Llamamos al generador de la RDD"
      ],
      "metadata": {
        "id": "-81jQCtw2UZ0"
      },
      "execution_count": null,
      "outputs": []
    },
    {
      "cell_type": "markdown",
      "source": [
        "# Pregunta 2.2"
      ],
      "metadata": {
        "id": "krUm4HRz16U1"
      }
    },
    {
      "cell_type": "code",
      "source": [
        "# Función para buscar triangulos\n",
        "# Suposiciones:\n",
        "# - La conección con la BDD de neo4j ya está bien establecida.\n",
        "# - Se entrega una lista ordenada con las relaciones que se buscan que conformen el triangulo.\n",
        "# - Solo se puede buscar una combinación de relaciones a la vez.\n",
        "def triangulos(rel_type, b=3):\n",
        "  mapped_rdd = edge_rdd.flatMap(lambda edge: mapper(edge, b, 3)) # Mapeamos con los parametros pedidos en el enunciado (b=3, triangulos)\n",
        "\n",
        "  # Aplicamos la función de reducción general\n",
        "  cycle_length = 3  # Largo del patrón que queremos buscar, en este caso, triangulos\n",
        "  strict_rels = True  # True: funcion de reduccion estricta\n",
        "\n",
        "  rel_types = rel_type  # Relaciones que buscamos\n",
        "\n",
        "  # Aplicamos la reducción general\n",
        "  reduced_rdd = mapped_rdd.groupByKey().flatMap(lambda x: generalized_reducer(x[0], x[1], cycle_length, strict_rels=True, rel_types=rel_types))\n",
        "\n",
        "  # Recolectamos y mostramos los datos\n",
        "  result = reduced_rdd.collect()\n",
        "  result = [tuple(cycle) for cycle in result]\n",
        "\n",
        "  # Creamos un set de los resultados para eliminar duplicados\n",
        "  unique_cycles = set(result)\n",
        "  return unique_cycles # Retornamos el set de triangulos"
      ],
      "metadata": {
        "id": "RN_SDmDV17sf"
      },
      "execution_count": 104,
      "outputs": []
    },
    {
      "cell_type": "code",
      "source": [
        "triangulos = triangulos(rel_type=1)"
      ],
      "metadata": {
        "id": "3qtZKgFA3cDz"
      },
      "execution_count": null,
      "outputs": []
    },
    {
      "cell_type": "markdown",
      "source": [
        "# Pregunta 2.4"
      ],
      "metadata": {
        "id": "hc7XGbIW37im"
      }
    },
    {
      "cell_type": "code",
      "source": [
        "# Funcion para encontrar cuadrados\n",
        "# Está construida bajo la suposición de que la definicion de M es que es un array\n",
        "# de tres dimensiones donde las coordenadas M[x,y,z] representan si existe o no\n",
        "# la conección de x e y mediante la relación z. Así fue como interprete la definición\n",
        "# del enunciado, y lo discutido en el issue #31 del GitHub del curso.\n",
        "# También, según lo que entendí del enunciado, para este punto (2.4) se recibirá\n",
        "# una lista de variables, que suponemos es la lista ordenada de relaciones que\n",
        "# queremos que se cumplan en el cuadrado.\n",
        "def cuadrados(M, rels, b=4):\n",
        "\n",
        "  nonzeros = M.nonzero()\n",
        "  edges = []\n",
        "  for dim in range(len(M.nonzero()[0])):\n",
        "    x = nonzeros[0][dim]\n",
        "    y = nonzeros[1][dim]\n",
        "    z = nonzeros[2][dim]\n",
        "    edges.append((x, y, z))\n",
        "\n",
        "  mapped_rdd = edges.flatMap(lambda edge: mapper(edge, b, 4)) # Mapeamos con los parametros pedidos en el enunciado (b=4, cuadrados)\n",
        "\n",
        "  cycle_length = 4  # Largo del patrón que queremos buscar, en este caso, cuadrados\n",
        "  strict_rels = True  # True: funcion de reduccion estricta\n",
        "\n",
        "  rel_types = rels  # Relaciones que buscamos\n",
        "\n",
        "  # Aplicamos la reducción general\n",
        "  reduced_rdd = mapped_rdd.groupByKey().flatMap(lambda x: generalized_reducer(x[0], x[1], cycle_length, strict_rels=True, rel_types=rel_types))\n",
        "\n",
        "  # Recolectamos y mostramos los datos\n",
        "  result = reduced_rdd.collect()\n",
        "  result = [tuple(cycle) for cycle in result]\n",
        "\n",
        "  # Creamos un set de los resultados para eliminar duplicados\n",
        "  unique_cycles = set(result)\n",
        "  return unique_cycles # Retornamos el set de cuadrados"
      ],
      "metadata": {
        "id": "j3nXEQhK37Ny"
      },
      "execution_count": 45,
      "outputs": []
    },
    {
      "cell_type": "code",
      "source": [],
      "metadata": {
        "id": "oj_oT6e3AZyz"
      },
      "execution_count": 119,
      "outputs": []
    },
    {
      "cell_type": "code",
      "source": [],
      "metadata": {
        "colab": {
          "base_uri": "https://localhost:8080/"
        },
        "id": "0IDABRCFMiCf",
        "outputId": "a0dfc460-eaf8-4431-ec31-ae45670d9c79"
      },
      "execution_count": 127,
      "outputs": [
        {
          "output_type": "execute_result",
          "data": {
            "text/plain": [
              "[None, None, None]"
            ]
          },
          "metadata": {},
          "execution_count": 127
        }
      ]
    },
    {
      "cell_type": "code",
      "source": [],
      "metadata": {
        "id": "99SW4ulNNlj9"
      },
      "execution_count": null,
      "outputs": []
    }
  ]
}